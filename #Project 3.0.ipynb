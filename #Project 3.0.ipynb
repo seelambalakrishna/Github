{
 "cells": [
  {
   "cell_type": "markdown",
   "id": "c47816d2",
   "metadata": {},
   "source": [
    "# Tables"
   ]
  },
  {
   "cell_type": "code",
   "execution_count": 4,
   "id": "a76ffc2c",
   "metadata": {},
   "outputs": [
    {
     "name": "stdout",
     "output_type": "stream",
     "text": [
      "simple tables\n",
      "Enter the number of your choice17\n",
      "********************\n",
      "17  x  1  =  17\n",
      "17  x  2  =  34\n",
      "17  x  3  =  51\n",
      "17  x  4  =  68\n",
      "17  x  5  =  85\n",
      "17  x  6  =  102\n",
      "17  x  7  =  119\n",
      "17  x  8  =  136\n",
      "17  x  9  =  153\n",
      "17  x  10  =  170\n",
      "17  x  11  =  187\n",
      "17  x  12  =  204\n"
     ]
    }
   ],
   "source": [
    "print(\"simple tables\")\n",
    "num = int(input(\"Enter the number of your choice\"))\n",
    "print(\"*\" *20)\n",
    "multiple = 1\n",
    "while(multiple<=12):\n",
    "    print(num , \" x \", multiple , \" = \", multiple*num)\n",
    "    multiple = multiple+1"
   ]
  },
  {
   "cell_type": "code",
   "execution_count": null,
   "id": "06f0ec70",
   "metadata": {},
   "outputs": [],
   "source": []
  }
 ],
 "metadata": {
  "kernelspec": {
   "display_name": "Python 3",
   "language": "python",
   "name": "python3"
  },
  "language_info": {
   "codemirror_mode": {
    "name": "ipython",
    "version": 3
   },
   "file_extension": ".py",
   "mimetype": "text/x-python",
   "name": "python",
   "nbconvert_exporter": "python",
   "pygments_lexer": "ipython3",
   "version": "3.8.8"
  }
 },
 "nbformat": 4,
 "nbformat_minor": 5
}
