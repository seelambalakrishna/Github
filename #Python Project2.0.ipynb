{
 "cells": [
  {
   "cell_type": "code",
   "execution_count": 23,
   "id": "c2516cbb",
   "metadata": {},
   "outputs": [
    {
     "name": "stdout",
     "output_type": "stream",
     "text": [
      "choose between [rock,paper,scissor]\n",
      "paper\n",
      "choose between [rock,paper,scissor]\n",
      "rock\n",
      "paper covers the rock\n",
      "player has won the game\n"
     ]
    }
   ],
   "source": [
    "# Rock, Paper, Scissor Game\n",
    "\n",
    "#user input\n",
    "player = str(input(\"choose between [rock,paper,scissor]\\n\"))\n",
    "computer = str(input(\"choose between [rock,paper,scissor]\\n\"))\n",
    "\n",
    "#logic using conditional checks\n",
    "if (player == 'rock') and  (computer == 'rock'):\n",
    "     print(\"Tie\")\n",
    "elif (player == 'rock') and (computer == 'paper'):\n",
    "    print(\"rock smashes paper\")\n",
    "    print(\"player has won the game\")\n",
    "elif (player == 'rock') and (computer == 'scissor'):\n",
    "    print(\"rock smashes scissor\")\n",
    "    print(\"player has won the game\")\n",
    "    \n",
    "        \n",
    "##logic for paper\n",
    "elif (player == 'paper') and (computer == 'rock'):\n",
    "    print(\"paper covers the rock\")\n",
    "    print(\"player has won the game\")\n",
    "elif (player == 'paper') and (computer == 'scissor'):\n",
    "    print(\"scissor cuts the paper\")\n",
    "    print(\"computer has won the game\")\n",
    "       \n",
    "        \n",
    "##logic for scissor\n",
    "elif (player == 'scissor') and (computer == 'rock'):\n",
    "    print(\"scissor beats the rock\")\n",
    "    print(\"player has won the game\")\n",
    "elif (player == 'scissor') and (computer == 'paper'):\n",
    "    print(\"scissor cuts the paper\")\n",
    "    print(\"player has won the game\")\n",
    "       \n",
    "        \n",
    "##logic fot the error\n",
    "else:\n",
    "    print(\"Error choose corect option\")\n",
    "        \n",
    "       "
   ]
  },
  {
   "cell_type": "code",
   "execution_count": null,
   "id": "18d01cc8",
   "metadata": {},
   "outputs": [],
   "source": []
  }
 ],
 "metadata": {
  "kernelspec": {
   "display_name": "Python 3",
   "language": "python",
   "name": "python3"
  },
  "language_info": {
   "codemirror_mode": {
    "name": "ipython",
    "version": 3
   },
   "file_extension": ".py",
   "mimetype": "text/x-python",
   "name": "python",
   "nbconvert_exporter": "python",
   "pygments_lexer": "ipython3",
   "version": "3.8.8"
  }
 },
 "nbformat": 4,
 "nbformat_minor": 5
}
