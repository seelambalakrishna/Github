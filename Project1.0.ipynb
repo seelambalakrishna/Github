{
 "cells": [
  {
   "cell_type": "markdown",
   "id": "6b2ebf74",
   "metadata": {},
   "source": [
    "# STUDENT PORTFOLIO"
   ]
  },
  {
   "cell_type": "code",
   "execution_count": 4,
   "id": "dca1bd98",
   "metadata": {},
   "outputs": [
    {
     "name": "stdout",
     "output_type": "stream",
     "text": [
      "Enter your FirstName \n",
      "seelam\n",
      "Enter your lastName \n",
      "balakrishna\n",
      "Enter your Class\n",
      "12\n",
      "Enter your division\n",
      "b\n",
      "Enter your Roll No:\n",
      "7\n",
      "Enter subject1\n",
      "maths\n",
      "Enter subject2\n",
      "physics\n",
      "Enter subject3\n",
      "chemistry\n",
      "Enter percentage\n",
      "80.0\n"
     ]
    }
   ],
   "source": [
    "firstName = str(input(\"Enter your FirstName \\n\"))\n",
    "lastName = str(input(\"Enter your lastName \\n\"))\n",
    "std = int(input(\"Enter your Class\\n\"))\n",
    "division = str(input(\"Enter your division\\n\"))\n",
    "rollNo = int(input(\"Enter your Roll No:\\n\"))\n",
    "sub1 = str(input(\"Enter subject1\\n\"))\n",
    "sub2 = str(input(\"Enter subject2\\n\"))\n",
    "sub3 = str(input(\"Enter subject3\\n\"))\n",
    "studentpercent = float(input(\"Enter percentage\\n\"))"
   ]
  },
  {
   "cell_type": "code",
   "execution_count": 5,
   "id": "60f71580",
   "metadata": {},
   "outputs": [
    {
     "name": "stdout",
     "output_type": "stream",
     "text": [
      "seelam\n",
      "balakrishna\n",
      "12\n",
      "b\n",
      "7\n",
      "maths\n",
      "physics\n",
      "chemistry\n",
      "80.0\n"
     ]
    }
   ],
   "source": [
    "print(firstName)\n",
    "print(lastName)\n",
    "print(std)\n",
    "print(division)\n",
    "print(rollNo)\n",
    "print(sub1)\n",
    "print(sub2)\n",
    "print(sub3)\n",
    "print(studentpercent)"
   ]
  },
  {
   "cell_type": "code",
   "execution_count": 6,
   "id": "c95acd8e",
   "metadata": {},
   "outputs": [
    {
     "name": "stdout",
     "output_type": "stream",
     "text": [
      "Student Details\n",
      "***************\n",
      "\n",
      "The First Name of the Student is : seelam\n",
      "The Last Name of the Student is : balakrishna\n",
      "SEELAM is in 12  Class & B Division.\n",
      "Roll No : 7\n",
      "Subject 1 :maths\n",
      "Subject 2 :physics\n",
      "Subject 3 :chemistry\n",
      "SEELAM has scored 80.0 in the final Exam.\n",
      "\n",
      "**********\n",
      "\n",
      "Congratulations & Have a Successful Year ahead.\n"
     ]
    }
   ],
   "source": [
    "print(\"Student Details\")\n",
    "print(\"*\"*15+\"\\n\")\n",
    "print(\"The First Name of the Student is : \"+firstName)\n",
    "print(\"The Last Name of the Student is : \"+lastName)\n",
    "print(firstName.upper()+\" is in \"+str(std),\" Class & \"+division.upper()+\" Division.\")\n",
    "print(\"Roll No : \"+str(rollNo))\n",
    "print(\"Subject 1 :\"+sub1)\n",
    "print(\"Subject 2 :\"+sub2)\n",
    "print(\"Subject 3 :\"+sub3)\n",
    "print(firstName.upper()+\" has scored \"+str(studentpercent)+\" in the final Exam.\")\n",
    "print(\"\\n\"+\"*\"*10+\"\\n\")\n",
    "print(\"Congratulations & Have a Successful Year ahead.\")\n"
   ]
  },
  {
   "cell_type": "code",
   "execution_count": null,
   "id": "ae209593",
   "metadata": {},
   "outputs": [],
   "source": []
  }
 ],
 "metadata": {
  "kernelspec": {
   "display_name": "Python 3",
   "language": "python",
   "name": "python3"
  },
  "language_info": {
   "codemirror_mode": {
    "name": "ipython",
    "version": 3
   },
   "file_extension": ".py",
   "mimetype": "text/x-python",
   "name": "python",
   "nbconvert_exporter": "python",
   "pygments_lexer": "ipython3",
   "version": "3.8.8"
  }
 },
 "nbformat": 4,
 "nbformat_minor": 5
}
