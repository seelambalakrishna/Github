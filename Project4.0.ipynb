{
 "cells": [
  {
   "cell_type": "markdown",
   "id": "c2985341",
   "metadata": {},
   "source": [
    "# Real Calculator"
   ]
  },
  {
   "cell_type": "code",
   "execution_count": 8,
   "id": "f1358aa2",
   "metadata": {},
   "outputs": [
    {
     "name": "stdout",
     "output_type": "stream",
     "text": [
      "Enter your Equation is : 195 + 256\n",
      " \n",
      "The sum of 195 and 256 is 451\n"
     ]
    }
   ],
   "source": [
    "number1, operator, number2 = map(str,input(\"Enter your Equation is : \").split())\n",
    "\n",
    "number1 = int(number1)          ## converting to integer by redefining\n",
    "number2 = int(number2)          ## converting to integer by redefining\n",
    "\n",
    "print(\" \")\n",
    "\n",
    "def add(a,b):       ## deining add function\n",
    "    addition = a+b\n",
    "    print(f\"The sum of {a} and {b} is {addition}\")\n",
    "    return addition\n",
    "\n",
    "def sub(a,b):      ## defining subract function\n",
    "    subraction = a-b\n",
    "    print(f\"The difference between {a} and {b} is {subraction}\")\n",
    "    return subraction\n",
    "\n",
    "def mul(a,b):      ## defining multiply function\n",
    "    multiplication = a*b\n",
    "    print(f\"The product of {a} and {b} is {multiplication}\")\n",
    "    return multiplication\n",
    "\n",
    "def div(a,b):      ## defining divide function\n",
    "    division = a/b\n",
    "    print(f\"The quotient of {a} and {b} is {division}\")\n",
    "    return division\n",
    "\n",
    "def mod(a,b):     ## defining modulus function\n",
    "    modulus = a%b\n",
    "    print(f\"The modulus of {a} and {b} is {percentage}\")\n",
    "    return modulus\n",
    "\n",
    "#conditions for operators\n",
    "\n",
    "if operator =='+':\n",
    "    add(number1, number2)\n",
    "    \n",
    "elif operator == '-':\n",
    "    subract(number1, number2)\n",
    "    \n",
    "elif operator == '*':\n",
    "    mul(number1, number2)\n",
    "    \n",
    "elif operator == '/':\n",
    "    divide(number1, number2)\n",
    "    \n",
    "elif operator == '%':\n",
    "    modulus(number1, number2)\n",
    "    \n",
    "else:\n",
    "    print(\"Give correct input or Invalid input\")"
   ]
  },
  {
   "cell_type": "code",
   "execution_count": null,
   "id": "ea544d26",
   "metadata": {},
   "outputs": [],
   "source": [
    "\n",
    "\n"
   ]
  }
 ],
 "metadata": {
  "kernelspec": {
   "display_name": "Python 3",
   "language": "python",
   "name": "python3"
  },
  "language_info": {
   "codemirror_mode": {
    "name": "ipython",
    "version": 3
   },
   "file_extension": ".py",
   "mimetype": "text/x-python",
   "name": "python",
   "nbconvert_exporter": "python",
   "pygments_lexer": "ipython3",
   "version": "3.8.8"
  }
 },
 "nbformat": 4,
 "nbformat_minor": 5
}
